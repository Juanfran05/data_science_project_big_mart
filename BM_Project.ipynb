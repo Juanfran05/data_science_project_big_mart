{
 "cells": [
  {
   "cell_type": "markdown",
   "metadata": {},
   "source": [
    "# PI DATA - BigMart"
   ]
  },
  {
   "cell_type": "code",
   "execution_count": null,
   "metadata": {},
   "outputs": [],
   "source": [
    "import pandas as pd\n",
    "import pandas_profiling as ppr\n",
    "\n",
    "import plotly.graph_objects as go\n",
    "import plotly.express as px\n",
    "\n",
    "import datetime as dt\n",
    "from sklearn.preprocessing import LabelEncoder\n",
    "\n",
    "from sklearn.model_selection import train_test_split\n",
    "from sklearn.metrics import mean_squared_error\n",
    "import math\n",
    "from sklearn.metrics import r2_score\n",
    "from sklearn.linear_model import LinearRegression\n"
   ]
  },
  {
   "cell_type": "markdown",
   "metadata": {},
   "source": [
    "## Importación de los datos"
   ]
  },
  {
   "cell_type": "code",
   "execution_count": null,
   "metadata": {},
   "outputs": [],
   "source": [
    "train_df = pd.read_csv('data/Train_BigMart.csv')\n",
    "test_df = pd.read_csv('data/Test_BigMart.csv')"
   ]
  },
  {
   "cell_type": "markdown",
   "metadata": {},
   "source": [
    "## Exploración de los datos"
   ]
  },
  {
   "cell_type": "code",
   "execution_count": null,
   "metadata": {},
   "outputs": [],
   "source": [
    "def profile_data(df):    \n",
    "    pr = ppr.ProfileReport(df, title=\"Pandas Profiling Report\")\n",
    "    return pr"
   ]
  },
  {
   "cell_type": "markdown",
   "metadata": {},
   "source": [
    "Se utilizó la biblioteca pandas_profiling para revisar de manera detallada el conjunto de datos. "
   ]
  },
  {
   "cell_type": "code",
   "execution_count": null,
   "metadata": {},
   "outputs": [],
   "source": [
    "profile_data(train_df)"
   ]
  },
  {
   "cell_type": "markdown",
   "metadata": {},
   "source": [
    "### Observaciones\n",
    "\n",
    "- Item_Identifier cuenta con alta cardinalidad. Se observa que un mismo item se repite hasta 10 veces, probablemente porque se vende hasta en 10 tiendas distintas.\n",
    "\n",
    "- Item_Weight cuenta con el 17.2% de datos faltantes, por lo que se trabajará en completar la información.\n",
    "\n",
    "- Item_Fat_Content tiene problemas con las etiquetas de los datos, estas no están estandarizadas.\n",
    "\n",
    "- Item_Visibility cuenta con un 6.2% de zeros y además tiene una distribución asimétrica con cola a la derecha. Este atributo puede normalizarse.\n",
    "\n",
    "- Item_Type cuenta con 16 categorías. Se intentará agrupar las categorías para disminuir su número y mejorar el rendimiento de la predicción.\n",
    "\n",
    "- Item_MRP tiene una alta correlación (Pearson y Phik ) con Item_Outlet_Sales\n",
    "\n",
    "- Outlet_Identifier tiene una alta correlación (Phik) con Item_Outlet_Sales\n",
    "\n",
    "- Outlet_Establishment_Year requiere ser transformada a años de antigüedad de la tienda.\n",
    "\n",
    "- Outlet_Size contiene un 28.3% de datos faltantes\n",
    "\n",
    "- Outlet_Location_Type sin comentarios\n",
    "\n",
    "- Outlet_Type sin comentarios\n",
    "\n",
    "- Item_Outlet_Sales será la variable objetivo a predecir.\n"
   ]
  },
  {
   "cell_type": "markdown",
   "metadata": {},
   "source": [
    "## Gráficas de distribución"
   ]
  },
  {
   "cell_type": "code",
   "execution_count": null,
   "metadata": {},
   "outputs": [],
   "source": [
    "#plot item_identifier\n",
    "item_identifier_graph = go.Figure( go.Bar(\n",
    "    y=train_df['Item_Identifier'].value_counts().index,\n",
    "    x=train_df['Item_Identifier'].value_counts().values,\n",
    "    marker_color='#5579C6',\n",
    "    orientation='h'\n",
    "    ))\n",
    "item_identifier_graph.update_layout(title=\"Item Identifier\", \n",
    "                                    yaxis_title=\"Item_Identifier\",\n",
    "                                    xaxis_title=\"Count\")\n",
    "item_identifier_graph.show()"
   ]
  },
  {
   "cell_type": "code",
   "execution_count": null,
   "metadata": {},
   "outputs": [],
   "source": [
    "#plot Item_Weight Histogram\n",
    "item_weight_graph = go.Figure( go.Histogram(\n",
    "    x=train_df['Item_Weight'],\n",
    "    marker_color='#5579C6'\n",
    "    ))\n",
    "item_weight_graph.update_layout(title=\"Item Weight Histogram\",\n",
    "                                xaxis_title=\"Item_Weight\",\n",
    "                                yaxis_title=\"Count\")\n",
    "item_weight_graph.show()"
   ]
  },
  {
   "cell_type": "code",
   "execution_count": null,
   "metadata": {},
   "outputs": [],
   "source": [
    "#plot Item_Weight Boxplot horizontal\n",
    "item_weight_boxplot = go.Figure( go.Box(\n",
    "    x=train_df['Item_Weight'],\n",
    "    marker_color='#5579C6',\n",
    "    ))\n",
    "item_weight_boxplot.update_layout(title=\"Item Weight Boxplot\")\n",
    "item_weight_boxplot.show()"
   ]
  },
  {
   "cell_type": "code",
   "execution_count": null,
   "metadata": {},
   "outputs": [],
   "source": [
    "#plot Item_Fat_Content Bar Chart\n",
    "item_fat_content_graph = go.Figure( go.Bar(\n",
    "    y=train_df['Item_Fat_Content'].value_counts().index,\n",
    "    x=train_df['Item_Fat_Content'].value_counts().values,\n",
    "    marker_color='#5579C6',\n",
    "    orientation='h'\n",
    "    ))\n",
    "item_fat_content_graph.update_layout(title=\"Item Fat Content\",\n",
    "                                    xaxis_title=\"Item_Fat_Content\",\n",
    "                                    yaxis_title=\"Count\")\n",
    "item_fat_content_graph.show()"
   ]
  },
  {
   "cell_type": "code",
   "execution_count": null,
   "metadata": {},
   "outputs": [],
   "source": [
    "#plot Item_Visibility\n",
    "item_visibility_graph = go.Figure( go.Histogram(\n",
    "    x=train_df['Item_Visibility'],\n",
    "    marker_color='#5579C6'\n",
    "    ))\n",
    "item_visibility_graph.update_layout(title=\"Item Visibility\",\n",
    "                                xaxis_title=\"Item_Visibility\",\n",
    "                                yaxis_title=\"Count\")\n",
    "item_visibility_graph.show()"
   ]
  },
  {
   "cell_type": "code",
   "execution_count": null,
   "metadata": {},
   "outputs": [],
   "source": [
    "#plot Item_Visibility boxplot\n",
    "item_visibility_boxplot = go.Figure( go.Box(\n",
    "    x=train_df['Item_Visibility'],\n",
    "    marker_color='#5579C6'\n",
    "    ))\n",
    "item_visibility_boxplot.update_layout(title=\"Item Visibility Boxplot\")\n",
    "item_visibility_boxplot.show()"
   ]
  },
  {
   "cell_type": "code",
   "execution_count": null,
   "metadata": {},
   "outputs": [],
   "source": [
    "# plot Item_Type Bar chart horizontal\n",
    "item_type_bar = go.Figure( go.Bar(\n",
    "    y=train_df['Item_Type'].value_counts().index,\n",
    "    x=train_df['Item_Type'].value_counts().values,\n",
    "    marker_color='#5579C6',\n",
    "    orientation='h'\n",
    "    ))\n",
    "item_type_bar.update_layout(title=\"Item Type\",\n",
    "                                xaxis_title=\"Item_Type\",            \n",
    "                                yaxis_title=\"Count\")\n",
    "item_type_bar.show()"
   ]
  },
  {
   "cell_type": "code",
   "execution_count": null,
   "metadata": {},
   "outputs": [],
   "source": [
    "# plot Item_MRP Histogram\n",
    "item_mrp_histogram = go.Figure( go.Histogram(\n",
    "    x=train_df['Item_MRP'],\n",
    "    marker_color='#5579C6'\n",
    "    ))\n",
    "item_mrp_histogram.update_layout(title=\"Item MRP Histogram\",\n",
    "                                xaxis_title=\"Item_MRP\",\n",
    "                                yaxis_title=\"Count\")\n",
    "item_mrp_histogram.show()"
   ]
  },
  {
   "cell_type": "code",
   "execution_count": null,
   "metadata": {},
   "outputs": [],
   "source": [
    "# plot Item_MRP Boxplot\n",
    "item_mrp_boxplot = go.Figure( go.Box(\n",
    "    x=train_df['Item_MRP'],\n",
    "    marker_color='#5579C6'\n",
    "    ))\n",
    "item_mrp_boxplot.update_layout(title=\"Item MRP Boxplot\")\n",
    "item_mrp_boxplot.show()"
   ]
  },
  {
   "cell_type": "code",
   "execution_count": null,
   "metadata": {},
   "outputs": [],
   "source": [
    "# plot Outlet_Identifier Bar chart horizontal\n",
    "outlet_identifier_bar = go.Figure( go.Bar(\n",
    "    y=train_df['Outlet_Identifier'].value_counts().index,\n",
    "    x=train_df['Outlet_Identifier'].value_counts().values,\n",
    "    marker_color='#5579C6',\n",
    "    orientation='h'\n",
    "    ))\n",
    "outlet_identifier_bar.update_layout(title=\"Outlet Identifier\",\n",
    "                                xaxis_title=\"Outlet_Identifier\",\n",
    "                                yaxis_title=\"Count\")\n",
    "outlet_identifier_bar.show()"
   ]
  },
  {
   "cell_type": "code",
   "execution_count": null,
   "metadata": {},
   "outputs": [],
   "source": [
    "# plot Outlet_Establishment_Year Histogram\n",
    "outlet_establishment_year_histogram = go.Figure( go.Histogram(\n",
    "    x=train_df['Outlet_Establishment_Year'],\n",
    "    marker_color='#5579C6'\n",
    "    ))\n",
    "outlet_establishment_year_histogram.update_layout(title=\"Outlet Establishment Year Histogram\",\n",
    "                                xaxis_title=\"Outlet_Establishment_Year\",\n",
    "                                yaxis_title=\"Count\")\n",
    "outlet_establishment_year_histogram.show()"
   ]
  },
  {
   "cell_type": "code",
   "execution_count": null,
   "metadata": {},
   "outputs": [],
   "source": [
    "# plot Outlet_Size Bar chart horizontal\n",
    "outlet_size_bar = go.Figure( go.Bar(\n",
    "    y=train_df['Outlet_Size'].value_counts().index,\n",
    "    x=train_df['Outlet_Size'].value_counts().values,\n",
    "    marker_color='#5579C6',\n",
    "    orientation='h'\n",
    "    ))\n",
    "outlet_size_bar.update_layout(title=\"Outlet Size\",\n",
    "                                xaxis_title=\"Outlet_Size\",\n",
    "                                yaxis_title=\"Count\")\n",
    "outlet_size_bar.show()"
   ]
  },
  {
   "cell_type": "code",
   "execution_count": null,
   "metadata": {},
   "outputs": [],
   "source": [
    "# plot Outlet_Location_Type Bar chart horizontal\n",
    "outlet_location_type_bar = go.Figure( go.Bar(\n",
    "    y=train_df['Outlet_Location_Type'].value_counts().index,\n",
    "    x=train_df['Outlet_Location_Type'].value_counts().values,\n",
    "    marker_color='#5579C6',\n",
    "    orientation='h'\n",
    "    ))\n",
    "outlet_location_type_bar.update_layout(title=\"Outlet Location Type\",\n",
    "                                xaxis_title=\"Outlet_Location_Type\",\n",
    "                                yaxis_title=\"Count\")\n",
    "outlet_location_type_bar.show()"
   ]
  },
  {
   "cell_type": "code",
   "execution_count": null,
   "metadata": {},
   "outputs": [],
   "source": [
    "# plot Outlet_Type Bar chart horizontal\n",
    "outlet_type_bar = go.Figure( go.Bar(\n",
    "    y=train_df['Outlet_Type'].value_counts().index,\n",
    "    x=train_df['Outlet_Type'].value_counts().values,\n",
    "    marker_color='#5579C6',\n",
    "    orientation='h'\n",
    "    ))\n",
    "outlet_type_bar.update_layout(title=\"Outlet Type\",\n",
    "                                xaxis_title=\"Outlet_Type\",\n",
    "                                yaxis_title=\"Count\")\n",
    "outlet_type_bar.show()"
   ]
  },
  {
   "cell_type": "code",
   "execution_count": null,
   "metadata": {},
   "outputs": [],
   "source": [
    "# plot Item_Outlet_Sales histogram\n",
    "item_outlet_sales_histogram = go.Figure( go.Histogram(\n",
    "    x=train_df['Item_Outlet_Sales'],\n",
    "    marker_color='#5579C6'\n",
    "    ))\n",
    "item_outlet_sales_histogram.update_layout(title=\"Item Outlet Sales Histogram\",\n",
    "                                xaxis_title=\"Item_Outlet_Sales\",\n",
    "                                yaxis_title=\"Count\")\n",
    "item_outlet_sales_histogram.show()"
   ]
  },
  {
   "cell_type": "code",
   "execution_count": null,
   "metadata": {},
   "outputs": [],
   "source": [
    "# plot Item_Outlet_Sales boxplot\n",
    "item_outlet_sales_boxplot = go.Figure( go.Box(\n",
    "    x=train_df['Item_Outlet_Sales'],\n",
    "    marker_color='#5579C6'\n",
    "    ))\n",
    "item_outlet_sales_boxplot.update_layout(title=\"Item Outlet Sales Boxplot\")\n",
    "item_outlet_sales_boxplot.show()\n"
   ]
  },
  {
   "cell_type": "markdown",
   "metadata": {},
   "source": [
    "### Observaciones\n",
    "\n",
    "- Item_Visibility contiene outliders que deben ser tratados."
   ]
  },
  {
   "cell_type": "markdown",
   "metadata": {},
   "source": [
    "## Limpieza de datos"
   ]
  },
  {
   "cell_type": "markdown",
   "metadata": {},
   "source": [
    "### Item_Weight"
   ]
  },
  {
   "cell_type": "markdown",
   "metadata": {},
   "source": [
    "Se reemplazaron datos faltantes por la media."
   ]
  },
  {
   "cell_type": "code",
   "execution_count": null,
   "metadata": {},
   "outputs": [],
   "source": [
    "# Item_Weight fillna with median\n",
    "train_df['Item_Weight'].fillna(train_df['Item_Weight'].median(), inplace=True)\n",
    "#plot Item_Weight histogram\n",
    "item_weight_histogram = go.Figure( go.Histogram(\n",
    "    x=train_df['Item_Weight'],\n",
    "    marker_color='#5579C6'\n",
    "    ))\n",
    "item_weight_histogram.update_layout(title=\"Item Weight Histogram\",\n",
    "                                xaxis_title=\"Item_Weight\",\n",
    "                                yaxis_title=\"Count\")\n",
    "item_weight_histogram.show()\n",
    "#plot Item_Weight boxplot\n",
    "item_weight_boxplot = go.Figure( go.Box(\n",
    "    x=train_df['Item_Weight'],\n",
    "    marker_color='#5579C6'\n",
    "    ))\n",
    "item_weight_boxplot.update_layout(title=\"Item Weight Boxplot\")\n",
    "item_weight_boxplot.show()\n"
   ]
  },
  {
   "cell_type": "markdown",
   "metadata": {},
   "source": [
    "### Item_Fat_Content"
   ]
  },
  {
   "cell_type": "markdown",
   "metadata": {},
   "source": [
    "Se renombraron las etiquetas para encajarlas en las dos categorías existentes."
   ]
  },
  {
   "cell_type": "code",
   "execution_count": null,
   "metadata": {},
   "outputs": [],
   "source": [
    "# Item_Fat_Content rename categorical variable\n",
    "train_df.replace({\"Item_Fat_Content\": {\"low fat\": \"Low Fat\", \"Low Fat\": \"Low Fat\", \"reg\": \"Regular\", \"Regular\": \"Regular\", \"reg \": \"Regular\", \"LF\": \"Low Fat\"}} , inplace=True)\n",
    "#plot Item_Fat_Content Bar chart horizontal\n",
    "item_fat_content_bar = go.Figure( go.Bar(\n",
    "    y=train_df['Item_Fat_Content'].value_counts().index,\n",
    "    x=train_df['Item_Fat_Content'].value_counts().values,\n",
    "    marker_color='#5579C6',\n",
    "    orientation='h'\n",
    "    ))\n",
    "item_fat_content_bar.update_layout(title=\"Item Fat Content\",\n",
    "                                xaxis_title=\"Item_Fat_Content\",\n",
    "                                yaxis_title=\"Count\")\n",
    "item_fat_content_bar.show()\n"
   ]
  },
  {
   "cell_type": "markdown",
   "metadata": {},
   "source": [
    "### Item_Visibility"
   ]
  },
  {
   "cell_type": "markdown",
   "metadata": {},
   "source": [
    "Se reemplazó los datos faltantes por el promedio de visibilidad del producto en otras tiendas."
   ]
  },
  {
   "cell_type": "code",
   "execution_count": null,
   "metadata": {},
   "outputs": [],
   "source": [
    "# Item_Visibility average group by Item_Identifier\n",
    "train_df['Item_Visibility_avg'] = train_df.groupby('Item_Identifier')['Item_Visibility'].transform('mean')\n",
    "# plot Item_Visibility_avg histogram\n",
    "item_visibility_avg_histogram = go.Figure( go.Histogram(\n",
    "    x=train_df['Item_Visibility_avg'],\n",
    "    marker_color='#5579C6'\n",
    "    ))\n",
    "item_visibility_avg_histogram.update_layout(title=\"Item Visibility Avg Histogram\",\n",
    "                                xaxis_title=\"Item_Visibility_avg\",\n",
    "                                yaxis_title=\"Count\")\n",
    "item_visibility_avg_histogram.show()"
   ]
  },
  {
   "cell_type": "code",
   "execution_count": null,
   "metadata": {},
   "outputs": [],
   "source": [
    "# Item_Visibility\n",
    "item_visibility_avg = train_df.groupby(\"Item_Identifier\").mean()[\"Item_Visibility\"] \n",
    "train_df['Item_Visibility'] = train_df.apply(lambda x: item_visibility_avg[x[\"Item_Identifier\"]] if x[\"Item_Visibility\"] ==0 else x[\"Item_Visibility\"], axis=1)\n",
    "# plot Item_Visibility_new histogram\n",
    "item_visibility_new_histogram = go.Figure( go.Histogram(\n",
    "    x=train_df['Item_Visibility'],\n",
    "    marker_color='#5579C6'\n",
    "    ))\n",
    "item_visibility_new_histogram.update_layout(title=\"Item Visibility Histogram\",\n",
    "                                xaxis_title=\"Item_Visibility\",\n",
    "                                yaxis_title=\"Count\")\n",
    "item_visibility_new_histogram.show()"
   ]
  },
  {
   "cell_type": "markdown",
   "metadata": {},
   "source": [
    "### Outlet_Size"
   ]
  },
  {
   "cell_type": "markdown",
   "metadata": {},
   "source": [
    "Se reemplazaron los valores nulos por la moda según el outlet_type"
   ]
  },
  {
   "cell_type": "code",
   "execution_count": null,
   "metadata": {},
   "outputs": [],
   "source": [
    "# Outlet_Size fillna with mode by outler_identifier\n",
    "\n",
    "outlet_size_mode_by_outlet_identifier = {}\n",
    "for i in test_df['Outlet_Identifier'].unique():\n",
    "      outlet_size_mode_by_outlet_identifier[i] = test_df[test_df['Outlet_Identifier'] == i]['Outlet_Size'].mode()\n",
    "print(outlet_size_mode_by_outlet_identifier)"
   ]
  },
  {
   "cell_type": "code",
   "execution_count": null,
   "metadata": {},
   "outputs": [],
   "source": [
    "# Outlet_Size fillna with mode by outler_type\n",
    "outlet_size_mode = train_df.pivot_table(values='Outlet_Size',\n",
    "      columns='Outlet_Type',aggfunc=lambda x:x.mode())\n",
    "print(outlet_size_mode)\n",
    "\n",
    "train_df[\"Outlet_Size\"].fillna(\"None\", inplace=True)\n",
    "train_df[\"Outlet_Size\"] = train_df.apply(lambda x: outlet_size_mode.loc['Outlet_Size'][x[\"Outlet_Type\"]] if x[\"Outlet_Size\"] == \"None\" else x[\"Outlet_Size\"], axis=1)\n",
    "\n",
    "#plot Outlet_Size Bar chart horizontal\n",
    "outlet_size_bar = go.Figure( go.Bar(\n",
    "    y=train_df['Outlet_Size'].value_counts().index,\n",
    "    x=train_df['Outlet_Size'].value_counts().values,\n",
    "    marker_color='#5579C6',\n",
    "    orientation='h'\n",
    "    ))\n",
    "outlet_size_bar.update_layout(title=\"Outlet Size\",\n",
    "                                xaxis_title=\"Outlet_Size\",\n",
    "                                yaxis_title=\"Count\")\n",
    "outlet_size_bar.show()\n"
   ]
  },
  {
   "cell_type": "markdown",
   "metadata": {},
   "source": [
    "# Análisis Bivariable"
   ]
  },
  {
   "cell_type": "code",
   "execution_count": null,
   "metadata": {},
   "outputs": [],
   "source": [
    "# Item_Outlet_Sales vs Item_Weight scatter plot\n",
    "item_outlet_sales_item_weight_scatter = go.Figure( go.Scatter(\n",
    "    x=train_df['Item_Weight'],\n",
    "    y=train_df['Item_Outlet_Sales'],\n",
    "    mode='markers',\n",
    "    marker_color='#5579C6'\n",
    "    ))\n",
    "item_outlet_sales_item_weight_scatter.update_layout(title=\"Item Outlet Sales vs Item Weight Scatter Plot\",\n",
    "                                xaxis_title=\"Item_Weight\",\n",
    "                                yaxis_title=\"Item_Outlet_Sales\")\n",
    "item_outlet_sales_item_weight_scatter.show()\n"
   ]
  },
  {
   "cell_type": "code",
   "execution_count": null,
   "metadata": {},
   "outputs": [],
   "source": [
    "#plot tem_Outlet_Sales main by Item_Fat_Content\n",
    "item_fat_content_main_by_item_outlet_sales = train_df.groupby(['Item_Fat_Content']).mean()[\"Item_Outlet_Sales\"]\n",
    "# plot bar chart\n",
    "item_fat_content_main_by_item_outlet_sales_bar = go.Figure( go.Bar(\n",
    "    y=item_fat_content_main_by_item_outlet_sales.index,\n",
    "    x=item_fat_content_main_by_item_outlet_sales.values,\n",
    "    marker_color='#5579C6',\n",
    "    orientation='h'\n",
    "    ))\n",
    "item_fat_content_main_by_item_outlet_sales_bar.update_layout(title=\"Item Outlet Sales Main by Item Fat Content\",\n",
    "                                xaxis_title=\"Item_Outlet_Sales\",\n",
    "                                yaxis_title=\"Item_Fat_Content\")\n",
    "item_fat_content_main_by_item_outlet_sales_bar.show()"
   ]
  },
  {
   "cell_type": "code",
   "execution_count": null,
   "metadata": {},
   "outputs": [],
   "source": [
    "# Item_Visibility vs Item_Outlet_Sales scatter plot\n",
    "item_visibility_item_outlet_sales_scatter = go.Figure( go.Scatter(\n",
    "    x=train_df['Item_Visibility'],\n",
    "    y=train_df['Item_Outlet_Sales'],\n",
    "    mode='markers',\n",
    "    marker_color='#5579C6'\n",
    "    ))\n",
    "item_visibility_item_outlet_sales_scatter.update_layout(title=\"Item Visibility vs Item Outlet Sales Scatter Plot\",\n",
    "                                xaxis_title=\"Item_Visibility\",\n",
    "                                yaxis_title=\"Item_Outlet_Sales\")\n",
    "item_visibility_item_outlet_sales_scatter.show()"
   ]
  },
  {
   "cell_type": "code",
   "execution_count": null,
   "metadata": {},
   "outputs": [],
   "source": [
    "# Item_Outlet_Sales mean by Item_Type \n",
    "item_outlet_sales_item_type_media = train_df.groupby(['Item_Type']).mean()[\"Item_Outlet_Sales\"]\n",
    "# plot bar chart\n",
    "item_outlet_sales_item_type_media_bar = go.Figure( go.Bar(\n",
    "    y=item_outlet_sales_item_type_media.index,\n",
    "    x=item_outlet_sales_item_type_media.values,\n",
    "    marker_color='#5579C6',\n",
    "    orientation='h'\n",
    "    ))\n",
    "item_outlet_sales_item_type_media_bar.update_layout(title=\"Item Outlet Sales Mean by Item Type \",\n",
    "                                xaxis_title=\"Item_Outlet_Sales\",    \n",
    "                                yaxis_title=\"Item_Type\")\n",
    "item_outlet_sales_item_type_media_bar.show()"
   ]
  },
  {
   "cell_type": "code",
   "execution_count": null,
   "metadata": {},
   "outputs": [],
   "source": [
    "# Item_MRP vs Item_Outlet_Sales scatter plot\n",
    "item_mrp_item_outlet_sales_scatter = go.Figure( go.Scatter(\n",
    "    x=train_df['Item_MRP'],\n",
    "    y=train_df['Item_Outlet_Sales'],\n",
    "    mode='markers',\n",
    "    marker_color='#5579C6'\n",
    "    ))\n",
    "item_mrp_item_outlet_sales_scatter.update_layout(title=\"Item MRP vs Item Outlet Sales Scatter Plot\",\n",
    "                                xaxis_title=\"Item_MRP\",\n",
    "                                yaxis_title=\"Item_Outlet_Sales\")\n",
    "item_mrp_item_outlet_sales_scatter.show()"
   ]
  },
  {
   "cell_type": "code",
   "execution_count": null,
   "metadata": {},
   "outputs": [],
   "source": [
    "import plotly.express as px\n",
    "fig = px.scatter_3d(train_df, x='Item_MRP', y='Item_Outlet_Sales', z='Outlet_Type',\n",
    "              color='Outlet_Type')\n",
    "fig.show()"
   ]
  },
  {
   "cell_type": "code",
   "execution_count": null,
   "metadata": {},
   "outputs": [],
   "source": [
    "fig = px.scatter_3d(train_df, x='Item_MRP', y='Item_Outlet_Sales', z='Outlet_Size',\n",
    "              color='Outlet_Size')\n",
    "fig.show()"
   ]
  },
  {
   "cell_type": "code",
   "execution_count": null,
   "metadata": {},
   "outputs": [],
   "source": [
    "# Item_Outlet_Sales mean by Outler identifier\n",
    "item_outlet_sales_mean_by_outlet_identifier = train_df.groupby(['Outlet_Identifier']).mean()[\"Item_Outlet_Sales\"]\n",
    "# plot bar chart\n",
    "item_outlet_sales_mean_by_outlet_identifier_bar = go.Figure( go.Bar(\n",
    "    y=item_outlet_sales_mean_by_outlet_identifier.index, \n",
    "    x=item_outlet_sales_mean_by_outlet_identifier.values,\n",
    "    marker_color='#5579C6',\n",
    "    orientation='h'\n",
    "    ))\n",
    "item_outlet_sales_mean_by_outlet_identifier_bar.update_layout(title=\"Item Outlet Sales Mean by Outlet Identifier\",\n",
    "                                xaxis_title=\"Item_Outlet_Sales\",\n",
    "                                yaxis_title=\"Outlet_Identifier\")\n",
    "item_outlet_sales_mean_by_outlet_identifier_bar.show()\n",
    "                                                                                    "
   ]
  },
  {
   "cell_type": "code",
   "execution_count": null,
   "metadata": {},
   "outputs": [],
   "source": [
    "# Item_Outlet_Sales mean by Outlet_Establishment_Year\n",
    "item_outlet_sales_mean_by_outlet_establishment_year = train_df.groupby(['Outlet_Establishment_Year']).mean()[\"Item_Outlet_Sales\"]\n",
    "# plot bar chart\n",
    "item_outlet_sales_mean_by_outlet_establishment_year_bar = go.Figure( go.Bar(\n",
    "    y=item_outlet_sales_mean_by_outlet_establishment_year.index,\n",
    "    x=item_outlet_sales_mean_by_outlet_establishment_year.values,\n",
    "    marker_color='#5579C6',\n",
    "    orientation='h'\n",
    "    ))\n",
    "item_outlet_sales_mean_by_outlet_establishment_year_bar.update_layout(title=\"Item Outlet Sales Mean by Outlet Establishment Year\",\n",
    "                                xaxis_title=\"Item_Outlet_Sales\",\n",
    "                                yaxis_title=\"Outlet_Establishment_Year\")\n",
    "item_outlet_sales_mean_by_outlet_establishment_year_bar.show()"
   ]
  },
  {
   "cell_type": "code",
   "execution_count": null,
   "metadata": {},
   "outputs": [],
   "source": [
    "# Item_Outlet_Sales mean by Outlet_Size\n",
    "item_outlet_sales_mean_by_outlet_size = train_df.groupby(['Outlet_Size']).mean()[\"Item_Outlet_Sales\"]\n",
    "# plot bar chart\n",
    "item_outlet_sales_mean_by_outlet_size_bar = go.Figure( go.Bar(\n",
    "    y=item_outlet_sales_mean_by_outlet_size.index,\n",
    "    x=item_outlet_sales_mean_by_outlet_size.values,\n",
    "    marker_color='#5579C6',\n",
    "    orientation='h'\n",
    "    ))\n",
    "item_outlet_sales_mean_by_outlet_size_bar.update_layout(title=\"Item Outlet Sales Mean by Outlet Size\",\n",
    "                                xaxis_title=\"Item_Outlet_Sales\",\n",
    "                                yaxis_title=\"Outlet_Size\")\n",
    "item_outlet_sales_mean_by_outlet_size_bar.show()"
   ]
  },
  {
   "cell_type": "code",
   "execution_count": null,
   "metadata": {},
   "outputs": [],
   "source": [
    "# Item_Outlet_Sales mean by Outlet_Location_Type\n",
    "item_outlet_sales_mean_by_outlet_location_type = train_df.groupby(['Outlet_Location_Type']).mean()[\"Item_Outlet_Sales\"]\n",
    "# plot bar chart\n",
    "item_outlet_sales_mean_by_outlet_location_type_bar = go.Figure( go.Bar(\n",
    "    y=item_outlet_sales_mean_by_outlet_location_type.index,\n",
    "    x=item_outlet_sales_mean_by_outlet_location_type.values,\n",
    "    marker_color='#5579C6',\n",
    "    orientation='h'\n",
    "    ))\n",
    "item_outlet_sales_mean_by_outlet_location_type_bar.update_layout(title=\"Item Outlet Sales Mean by Outlet Location Type\",\n",
    "                                xaxis_title=\"Item_Outlet_Sales\",\n",
    "                                yaxis_title=\"Outlet_Location_Type\")\n",
    "item_outlet_sales_mean_by_outlet_location_type_bar.show()\n"
   ]
  },
  {
   "cell_type": "code",
   "execution_count": null,
   "metadata": {},
   "outputs": [],
   "source": [
    "# Item_Outlet_Sales mean by Outlet_Type\n",
    "item_outlet_sales_mean_by_outlet_type = train_df.groupby(['Outlet_Type']).mean()[\"Item_Outlet_Sales\"]\n",
    "# plot bar chart\n",
    "item_outlet_sales_mean_by_outlet_type_bar = go.Figure( go.Bar(\n",
    "    y=item_outlet_sales_mean_by_outlet_type.index,\n",
    "    x=item_outlet_sales_mean_by_outlet_type.values,\n",
    "    marker_color='#5579C6',\n",
    "    orientation='h'\n",
    "    ))\n",
    "item_outlet_sales_mean_by_outlet_type_bar.update_layout(title=\"Item Outlet Sales Mean by Outlet Type\",\n",
    "                                xaxis_title=\"Item_Outlet_Sales\",\n",
    "                                yaxis_title=\"Outlet_Type\")\n",
    "item_outlet_sales_mean_by_outlet_type_bar.show()"
   ]
  },
  {
   "cell_type": "code",
   "execution_count": null,
   "metadata": {},
   "outputs": [],
   "source": [
    "fig = px.scatter_3d(train_df, x='Outlet_Size', y='Outlet_Type', z='Item_Outlet_Sales',\n",
    "              color='Item_Outlet_Sales')\n",
    "fig.show()"
   ]
  },
  {
   "cell_type": "markdown",
   "metadata": {},
   "source": [
    "### Ingeniería de Características"
   ]
  },
  {
   "cell_type": "markdown",
   "metadata": {},
   "source": [
    "### Item_Type"
   ]
  },
  {
   "cell_type": "code",
   "execution_count": null,
   "metadata": {},
   "outputs": [],
   "source": [
    "# Item_Type group categorical variables\n",
    "train_df[\"Item_Type_Id\"] = train_df[\"Item_Identifier\"].apply(lambda x: x[0:2])\n",
    "# plot Item_Type_Id Bar chart horizontal\n",
    "item_type_id_bar = go.Figure( go.Bar(\n",
    "    y=train_df['Item_Type_Id'].value_counts().index,\n",
    "    x=train_df['Item_Type_Id'].value_counts().values,\n",
    "    marker_color='#5579C6',\n",
    "    orientation='h'\n",
    "    ))\n",
    "item_type_id_bar.update_layout(title=\"Item Type Id\",\n",
    "                                xaxis_title=\"Item_Type_Id\",\n",
    "                                yaxis_title=\"Count\")\n",
    "item_type_id_bar.show()"
   ]
  },
  {
   "cell_type": "markdown",
   "metadata": {},
   "source": [
    "### Outlet_Establishment_Year "
   ]
  },
  {
   "cell_type": "code",
   "execution_count": null,
   "metadata": {},
   "outputs": [],
   "source": [
    "# get outlet_age \n",
    "current_year =  dt.datetime.now().year\n",
    "print(current_year)\n",
    "train_df[\"Outlet_Age\"] = current_year - train_df[\"Outlet_Establishment_Year\"] \n",
    "# plot Outlet_Age bar chart\n",
    "outlet_age_bar = go.Figure( go.Bar(\n",
    "    x=train_df['Outlet_Age'].value_counts().index,\n",
    "    y=train_df['Outlet_Age'].value_counts().values,\n",
    "    marker_color='#5579C6'\n",
    "    ))\n",
    "\n",
    "outlet_age_bar.update_layout(title=\"Outlet Age\",\n",
    "                                xaxis_title=\"Outlet_Age\",\n",
    "                                yaxis_title=\"Count\"\n",
    "                            )\n",
    "outlet_age_bar.update_xaxes(type='category')\n",
    "outlet_age_bar.show()"
   ]
  },
  {
   "cell_type": "code",
   "execution_count": null,
   "metadata": {},
   "outputs": [],
   "source": [
    "train_df.columns"
   ]
  },
  {
   "cell_type": "code",
   "execution_count": null,
   "metadata": {},
   "outputs": [],
   "source": [
    "label = LabelEncoder()\n",
    "vars_label_encoder = ['Item_Fat_Content', 'Outlet_Identifier',\n",
    "        'Outlet_Size', 'Outlet_Location_Type',\n",
    "       'Outlet_Type', 'Item_Type_Id'] \n",
    "for col in vars_label_encoder:\n",
    "    train_df[col] = label.fit_transform(train_df[col])\n",
    "train_df.head()"
   ]
  },
  {
   "cell_type": "code",
   "execution_count": null,
   "metadata": {},
   "outputs": [],
   "source": [
    "# get dummy variables\n",
    "vars_dummy = ['Item_Fat_Content', 'Outlet_Identifier',\n",
    "        'Outlet_Size', 'Outlet_Location_Type',\n",
    "       'Outlet_Type', 'Item_Type_Id'] \n",
    "train_df = pd.get_dummies(train_df, columns=vars_dummy)\n",
    "train_df.head()\n"
   ]
  },
  {
   "cell_type": "code",
   "execution_count": null,
   "metadata": {},
   "outputs": [],
   "source": [
    "train_df.info()"
   ]
  },
  {
   "cell_type": "markdown",
   "metadata": {},
   "source": [
    "## Entrenamiento del modelo"
   ]
  },
  {
   "cell_type": "markdown",
   "metadata": {},
   "source": [
    "### Selección de variables"
   ]
  },
  {
   "cell_type": "markdown",
   "metadata": {},
   "source": [
    "Tomando en cuenta los coeficientes de correlación de Phik se establece que las variables "
   ]
  },
  {
   "cell_type": "code",
   "execution_count": null,
   "metadata": {},
   "outputs": [],
   "source": [
    "cols_for_model = ['Item_Weight', 'Item_Visibility','Item_MRP',\n",
    "        'Outlet_Age', 'Item_Fat_Content_0',\n",
    "       'Item_Fat_Content_1', 'Outlet_Identifier_0', 'Outlet_Identifier_1',\n",
    "       'Outlet_Identifier_2', 'Outlet_Identifier_3', 'Outlet_Identifier_4',\n",
    "       'Outlet_Identifier_5', 'Outlet_Identifier_6', 'Outlet_Identifier_7',\n",
    "       'Outlet_Identifier_8', 'Outlet_Identifier_9', 'Outlet_Size_0',\n",
    "       'Outlet_Size_1', 'Outlet_Size_2', 'Outlet_Location_Type_0',\n",
    "       'Outlet_Location_Type_1', 'Outlet_Location_Type_2', 'Outlet_Type_0',\n",
    "       'Outlet_Type_1', 'Outlet_Type_2', 'Outlet_Type_3', 'Item_Type_Id_0',\n",
    "       'Item_Type_Id_1', 'Item_Type_Id_2']\n",
    "target = 'Item_Outlet_Sales'"
   ]
  },
  {
   "cell_type": "code",
   "execution_count": null,
   "metadata": {},
   "outputs": [],
   "source": [
    "X = train_df[cols_for_model]\n",
    "y = train_df[target]\n",
    "X_train, X_val, y_train, y_val = train_test_split(X, y, test_size=0.2,\n",
    "    random_state=1) #stratify=y\n",
    "print(X_train.shape, X_val.shape, y_train.shape, y_val.shape)"
   ]
  },
  {
   "cell_type": "code",
   "execution_count": null,
   "metadata": {},
   "outputs": [],
   "source": [
    "regresion = LinearRegression()\n",
    "regresion.fit(X_train, y_train)\n",
    "print(regresion)"
   ]
  },
  {
   "cell_type": "code",
   "execution_count": null,
   "metadata": {},
   "outputs": [],
   "source": [
    "# Los coeficientes de la regresión se obtiene con el método .coef_:\n",
    "print('Coeficientes: \\n', regresion.coef_)"
   ]
  },
  {
   "cell_type": "code",
   "execution_count": null,
   "metadata": {},
   "outputs": [],
   "source": [
    "# el método predict permite utilizar el modelo para predecir\n",
    "prediccion = regresion.predict(X_val)\n",
    "\n",
    "print('Error cuadrático medio: {}'.format(\n",
    "    mean_squared_error(y_val, prediccion)))\n",
    "print('Raíz del error cuadrático medio: {}'.format(\n",
    "    math.sqrt(mean_squared_error(y_val, prediccion))))\n",
    "print('El coeficiente de determinación es: {}'.format(\n",
    "    r2_score(y_val, prediccion)))"
   ]
  },
  {
   "cell_type": "code",
   "execution_count": null,
   "metadata": {},
   "outputs": [],
   "source": [
    "# plot y_val vs prediccion plotly\n",
    "fig = go.Figure(data=[go.Scatter(x=y_val, y=prediccion, mode='markers')])\n",
    "fig.show()\n"
   ]
  },
  {
   "cell_type": "code",
   "execution_count": null,
   "metadata": {},
   "outputs": [],
   "source": [
    "# plot feature importances plotly\n",
    "feature_importances = pd.Series(regresion.coef_, index=X_train.columns)\n",
    "# plot feature importances plotly\n",
    "fig = go.Figure(data=[go.Bar(x=feature_importances.index,\n",
    "                                y=feature_importances.values)])  \n",
    "fig.update_layout(title='Feature Importances')   \n",
    "fig.show()\n"
   ]
  },
  {
   "cell_type": "code",
   "execution_count": null,
   "metadata": {},
   "outputs": [],
   "source": [
    "\n",
    "def modelos(prueba_X, prueba_Y, entrenamiento_X, entrenamiento_Y,\n",
    "            algoritmo, tipo):\n",
    "\n",
    "    print (algoritmo)\n",
    "    algoritmo.fit(entrenamiento_X, entrenamiento_Y)\n",
    "    prediccion = algoritmo.predict(prueba_X)\n",
    "\n",
    "    print('Error cuadrático medio: {}'.format(\n",
    "        mean_squared_error(prueba_Y, prediccion)))\n",
    "    print('Raíz del error cuadrático medio: {}'.format(\n",
    "        math.sqrt(mean_squared_error(prueba_Y, prediccion))))\n",
    "    print('El coeficiente de determinación es: {}'.format(\n",
    "        r2_score(prueba_Y, prediccion)))\n",
    "    \n",
    "    tabla = pd.DataFrame(prueba_X.copy())\n",
    "    tabla[\"real\"] = prueba_Y.copy()\n",
    "    tabla[\"predicho\"] = prediccion.copy()\n",
    "    \n",
    "    data = tabla[[\"real\",\"predicho\"]].reset_index(drop=True)  \n",
    "\n",
    "    # plotly line plot real vs predictions\n",
    "    fig = go.Figure()\n",
    "    fig.add_trace(go.Scatter(x=data.index, y=data[\"real\"],\n",
    "                mode=\"lines\", name=\"real\"))\n",
    "    fig.add_trace(go.Scatter(x=data.index, y=data[\"predicho\"],\n",
    "                mode=\"lines\", name=\"predicho\"))\n",
    "    fig.update_layout(title='Real vs Predicho',\n",
    "                                xaxis_title=\"Real\",\n",
    "                                yaxis_title=\"Predicho\")\n",
    "    fig.show()\n",
    "\n",
    "    if tipo == \"lineal\":\n",
    "        coef = pd.DataFrame(algoritmo.coef_)\n",
    "    if tipo == \"compleja\":    \n",
    "        coef = pd.DataFrame(algoritmo.feature_importances_)\n",
    "    coef[\"importancia\"] = entrenamiento_X.columns\n",
    "    #plot feature importance plotly\n",
    "    fig = go.Figure(data=[go.Bar(x=coef[\"importancia\"],\n",
    "                                y=coef[0],\n",
    "                                marker_color='rgb(0,0,0)',\n",
    "                                marker_line_color='rgb(0,0,0)',\n",
    "                                marker_line_width=1.5,\n",
    "                                opacity=0.6)])\n",
    "    fig.update_layout(title='Importancia de los parámetros')\n",
    "    fig.show()\n",
    "    \n",
    "    return coef"
   ]
  },
  {
   "cell_type": "code",
   "execution_count": null,
   "metadata": {},
   "outputs": [],
   "source": [
    "lr = LinearRegression()\n",
    "coeficientes = modelos(X_val, y_val, X_train, y_train, lr, \"lineal\")"
   ]
  },
  {
   "cell_type": "code",
   "execution_count": null,
   "metadata": {},
   "outputs": [],
   "source": [
    "from sklearn.linear_model import Lasso\n",
    "ls = Lasso()\n",
    "coeficientes = modelos(X_val, y_val, X_train, y_train, ls, \"lineal\")"
   ]
  },
  {
   "cell_type": "code",
   "execution_count": null,
   "metadata": {},
   "outputs": [],
   "source": [
    "from sklearn.linear_model import Ridge\n",
    "ridge = Ridge(alpha=1000)\n",
    "coeficientes = modelos(X_val, y_val, X_train, y_train, ridge, \"lineal\")"
   ]
  },
  {
   "cell_type": "code",
   "execution_count": null,
   "metadata": {},
   "outputs": [],
   "source": [
    "from sklearn.ensemble import RandomForestRegressor\n",
    "rf = RandomForestRegressor()\n",
    "coeficientes = modelos(X_val, y_val, X_train, y_train, rf, \"compleja\")"
   ]
  },
  {
   "cell_type": "code",
   "execution_count": null,
   "metadata": {},
   "outputs": [],
   "source": [
    "from sklearn.ensemble import AdaBoostRegressor\n",
    "adb = AdaBoostRegressor()\n",
    "coeficientes = modelos(X_val, y_val, X_train, y_train, adb, \"compleja\")"
   ]
  },
  {
   "cell_type": "code",
   "execution_count": null,
   "metadata": {},
   "outputs": [],
   "source": []
  },
  {
   "cell_type": "markdown",
   "metadata": {},
   "source": []
  },
  {
   "cell_type": "markdown",
   "metadata": {},
   "source": [
    "# Aplicación del modelo"
   ]
  },
  {
   "cell_type": "markdown",
   "metadata": {},
   "source": []
  },
  {
   "cell_type": "code",
   "execution_count": null,
   "metadata": {},
   "outputs": [],
   "source": [
    "profile_data(test_df)"
   ]
  },
  {
   "cell_type": "code",
   "execution_count": null,
   "metadata": {},
   "outputs": [],
   "source": [
    "# Item_Weight fillna with median\n",
    "test_df['Item_Weight'].fillna(test_df['Item_Weight'].median(), inplace=True)\n",
    "#plot Item_Weight histogram\n",
    "item_weight_histogram = go.Figure( go.Histogram(\n",
    "    x=test_df['Item_Weight'],\n",
    "    marker_color='#5579C6'\n",
    "    ))\n",
    "item_weight_histogram.update_layout(title=\"Item Weight Histogram\",\n",
    "                                xaxis_title=\"Item_Weight\",\n",
    "                                yaxis_title=\"Count\")\n",
    "item_weight_histogram.show()\n",
    "#plot Item_Weight boxplot\n",
    "item_weight_boxplot = go.Figure( go.Box(\n",
    "    x=test_df['Item_Weight'],\n",
    "    marker_color='#5579C6'\n",
    "    ))\n",
    "item_weight_boxplot.update_layout(title=\"Item Weight Boxplot\")\n",
    "item_weight_boxplot.show()\n"
   ]
  },
  {
   "cell_type": "code",
   "execution_count": null,
   "metadata": {},
   "outputs": [],
   "source": [
    "# Item_Fat_Content rename categorical variable\n",
    "test_df.replace({\"Item_Fat_Content\": {\"low fat\": \"Low Fat\", \"Low Fat\": \"Low Fat\", \"reg\": \"Regular\", \"Regular\": \"Regular\", \"reg \": \"Regular\", \"LF\": \"Low Fat\"}} , inplace=True)\n",
    "#plot Item_Fat_Content Bar chart horizontal\n",
    "item_fat_content_bar = go.Figure( go.Bar(\n",
    "    y=test_df['Item_Fat_Content'].value_counts().index,\n",
    "    x=test_df['Item_Fat_Content'].value_counts().values,\n",
    "    marker_color='#5579C6',\n",
    "    orientation='h'\n",
    "    ))\n",
    "item_fat_content_bar.update_layout(title=\"Item Fat Content\",\n",
    "                                xaxis_title=\"Item_Fat_Content\",\n",
    "                                yaxis_title=\"Count\")\n",
    "item_fat_content_bar.show()"
   ]
  },
  {
   "cell_type": "code",
   "execution_count": null,
   "metadata": {},
   "outputs": [],
   "source": [
    "# Item_Visibility\n",
    "item_visibility_avg = test_df.groupby(\"Item_Identifier\").mean()[\"Item_Visibility\"] \n",
    "test_df['Item_Visibility'] = test_df.apply(lambda x: item_visibility_avg[x[\"Item_Identifier\"]] if x[\"Item_Visibility\"] ==0 else x[\"Item_Visibility\"], axis=1)\n",
    "# plot Item_Visibility_new histogram\n",
    "item_visibility_new_histogram = go.Figure( go.Histogram(\n",
    "    x=test_df['Item_Visibility'],\n",
    "    marker_color='#5579C6'\n",
    "    ))\n",
    "item_visibility_new_histogram.update_layout(title=\"Item Visibility Histogram\",\n",
    "                                xaxis_title=\"Item_Visibility\",\n",
    "                                yaxis_title=\"Count\")\n",
    "item_visibility_new_histogram.show()"
   ]
  },
  {
   "cell_type": "code",
   "execution_count": null,
   "metadata": {},
   "outputs": [],
   "source": [
    "# Outlet_Size fillna with mode by outler_type\n",
    "outlet_size_mode = test_df.pivot_table(values='Outlet_Size',\n",
    "      columns='Outlet_Type',aggfunc=lambda x:x.mode())\n",
    "print(outlet_size_mode)\n",
    "\n",
    "test_df[\"Outlet_Size\"].fillna(\"None\", inplace=True)\n",
    "test_df[\"Outlet_Size\"] = test_df.apply(lambda x: outlet_size_mode.loc['Outlet_Size'][x[\"Outlet_Type\"]] if x[\"Outlet_Size\"] == \"None\" else x[\"Outlet_Size\"], axis=1)\n",
    "\n",
    "#plot Outlet_Size Bar chart horizontal\n",
    "outlet_size_bar = go.Figure( go.Bar(\n",
    "    y=test_df['Outlet_Size'].value_counts().index,\n",
    "    x=test_df['Outlet_Size'].value_counts().values,\n",
    "    marker_color='#5579C6',\n",
    "    orientation='h'\n",
    "    ))\n",
    "outlet_size_bar.update_layout(title=\"Outlet Size\",\n",
    "                                xaxis_title=\"Outlet_Size\",\n",
    "                                yaxis_title=\"Count\")\n",
    "outlet_size_bar.show()\n"
   ]
  },
  {
   "cell_type": "code",
   "execution_count": null,
   "metadata": {},
   "outputs": [],
   "source": [
    "# Item_Type group categorical variables\n",
    "test_df[\"Item_Type_Id\"] = test_df[\"Item_Identifier\"].apply(lambda x: x[0:2])\n",
    "# plot Item_Type_Id Bar chart horizontal\n",
    "item_type_id_bar = go.Figure( go.Bar(\n",
    "    y=test_df['Item_Type_Id'].value_counts().index,\n",
    "    x=test_df['Item_Type_Id'].value_counts().values,\n",
    "    marker_color='#5579C6',\n",
    "    orientation='h'\n",
    "    ))\n",
    "item_type_id_bar.update_layout(title=\"Item Type Id\",\n",
    "                                xaxis_title=\"Item_Type_Id\",\n",
    "                                yaxis_title=\"Count\")\n",
    "item_type_id_bar.show()"
   ]
  },
  {
   "cell_type": "code",
   "execution_count": null,
   "metadata": {},
   "outputs": [],
   "source": [
    "# get outlet_age \n",
    "current_year =  dt.datetime.now().year\n",
    "print(current_year)\n",
    "test_df[\"Outlet_Age\"] = current_year - test_df[\"Outlet_Establishment_Year\"] \n",
    "# plot Outlet_Age bar chart\n",
    "outlet_age_bar = go.Figure( go.Bar(\n",
    "    x=test_df['Outlet_Age'].value_counts().index,\n",
    "    y=test_df['Outlet_Age'].value_counts().values,\n",
    "    marker_color='#5579C6'\n",
    "    ))\n",
    "\n",
    "outlet_age_bar.update_layout(title=\"Outlet Age\",\n",
    "                                xaxis_title=\"Outlet_Age\",\n",
    "                                yaxis_title=\"Count\"\n",
    "                            )\n",
    "outlet_age_bar.update_xaxes(type='category')\n",
    "outlet_age_bar.show()"
   ]
  },
  {
   "cell_type": "code",
   "execution_count": null,
   "metadata": {},
   "outputs": [],
   "source": [
    "label = LabelEncoder()\n",
    "vars_label_encoder = ['Item_Fat_Content', 'Outlet_Identifier',\n",
    "        'Outlet_Size', 'Outlet_Location_Type',\n",
    "       'Outlet_Type', 'Item_Type_Id'] \n",
    "for col in vars_label_encoder:\n",
    "    test_df[col] = label.fit_transform(test_df[col])\n",
    "test_df.head()"
   ]
  },
  {
   "cell_type": "code",
   "execution_count": null,
   "metadata": {},
   "outputs": [],
   "source": [
    "# get dummy variables\n",
    "vars_dummy = ['Item_Fat_Content', 'Outlet_Identifier',\n",
    "        'Outlet_Size', 'Outlet_Location_Type',\n",
    "       'Outlet_Type', 'Item_Type_Id'] \n",
    "test_df = pd.get_dummies(test_df, columns=vars_dummy)\n",
    "test_df.head()\n"
   ]
  },
  {
   "cell_type": "code",
   "execution_count": null,
   "metadata": {},
   "outputs": [],
   "source": [
    "X_test = test_df[cols_for_model]"
   ]
  },
  {
   "cell_type": "code",
   "execution_count": null,
   "metadata": {},
   "outputs": [],
   "source": [
    "prediction = regresion.predict(X_test)\n",
    "print(prediction)\n",
    "result = X_test.copy()\n",
    "result[\"prediction_sales\"] = prediction\n",
    "print(result)\n",
    "result.to_csv(\"result.csv\", index=False)"
   ]
  }
 ],
 "metadata": {
  "kernelspec": {
   "display_name": "Python 3.8.5 ('base')",
   "language": "python",
   "name": "python3"
  },
  "language_info": {
   "codemirror_mode": {
    "name": "ipython",
    "version": 3
   },
   "file_extension": ".py",
   "mimetype": "text/x-python",
   "name": "python",
   "nbconvert_exporter": "python",
   "pygments_lexer": "ipython3",
   "version": "3.8.5"
  },
  "orig_nbformat": 4,
  "vscode": {
   "interpreter": {
    "hash": "290a0437a5503a70b5074cc0968a0efcb1f357d9f757b8a173cff144f7201fe5"
   }
  }
 },
 "nbformat": 4,
 "nbformat_minor": 2
}
